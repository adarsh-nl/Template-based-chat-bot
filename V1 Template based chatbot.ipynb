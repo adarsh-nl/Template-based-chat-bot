{
 "cells": [
  {
   "cell_type": "code",
   "execution_count": 70,
   "id": "8ac53aa4",
   "metadata": {},
   "outputs": [
    {
     "name": "stdout",
     "output_type": "stream",
     "text": [
      "Are you looking to save on your monthly loan plans?\n",
      "yes\n",
      "\n",
      "-----You opted yes-----\n",
      "\n",
      "\n",
      "Great! \n",
      "What are you looking for specifically?\n",
      "\n",
      "1. Better Rates\n",
      "2. Loan consolidation\n",
      "3. All of the above\n",
      "4. None of the above\n",
      "\n",
      "\n",
      "better rates\n",
      "\n",
      "-----You opted better rates-----\n",
      "\n",
      "\n",
      "We can certainly help you with that!\n",
      "\n",
      "How do you prefer to proceed?\n",
      "1. Online resources\n",
      "2. Email me\n",
      "3. Call me\n",
      "4. I'd like to keep chatting\n",
      "call me\n",
      "\n",
      "-----You opted call me-----\n"
     ]
    }
   ],
   "source": [
    "#Q1, Q2, Q3.... denote the questions asked to the user\n",
    "Q1=input(\"Are you looking to save on your monthly loan plans?\\n\")\n",
    "print(\"\\n-----You opted {}-----\".format(Q1))\n",
    "if((Q1==\"yes\")or(Q1==\"Yes\")):\n",
    "    print(\"\\n\\nGreat! \\nWhat are you looking for specifically?\")\n",
    "    Q2=input(\"\\n1. Better Rates\\n2. Loan consolidation\\n3. All of the above\\n4. None of the above\\n\\n\\n\")\n",
    "    print(\"\\n-----You opted {}-----\".format(Q2))\n",
    "    \n",
    "    #Better rates or Loan Consolidation or All of the above\n",
    "    if((Q2== \"Better Rates\")or (Q2== \"better rates\") or (Q2== \"loan consolidation\") or (Q2== \"Loan Consolidation\") or (Q2==\"All of the above\") or (Q2==\"all of the above\")):\n",
    "        print(\"\\n\\nWe can certainly help you with that!\")\n",
    "        Q3=input(\"\\nHow do you prefer to proceed?\\n1. Online resources\\n2. Email me\\n3. Call me\\n4. I'd like to keep chatting\\n\")\n",
    "        print(\"\\n-----You opted {}-----\".format(Q3))\n",
    "        if(Q3==\"Email me\"):\n",
    "            print(\"\\nPerfect! Kindly tell me your email address and we will connect with you soon.\\n\")\n",
    "        elif(Q3==\"Call me\"):\n",
    "            print(\"\\nYou bet! Kindly drop your phone number and we will give you a call shortly :)\\n\")\n",
    "        elif(Q3==\"I'd like to keep chatting\"):\n",
    "            print(\"\\n That's great! I'll connect you with someone now.\\n\")\n",
    "            \n",
    "    #None of the above\n",
    "    elif((Q2==\"None of the above\") or (Q2==\"none of the above\")):\n",
    "        Q4=input(\"\\nCan I pass you along to someone who can understand exaclty what you need?\\n\")\n",
    "        print(\"\\n-----You opted {}-----\".format(Q4))\n",
    "        if(Q4==\"yes\"):\n",
    "            print(\"\\n1. Email me\\n2. Call me\\n3. I'd like to keep chatting\\n\")\n",
    "        elif(Q4==\"no\"):\n",
    "            print(\"\\n\\nNo problem. When you are ready to consolidate your loans and save money -- giving you more financial freedom -- just messgae us back. \\n\\nThanks for chatting with us!\")\n",
    "            \n",
    "        \n",
    "    \n",
    "elif ((Q1==\"No\") or(Q1==\"no\")):\n",
    "    print(\"\\n\\nNo problem. When you are ready to consolidate your loans and save money -- giving you more financial freedom -- just messgae us back. \\n\\nThanks for chatting with us!\")"
   ]
  },
  {
   "cell_type": "code",
   "execution_count": 71,
   "id": "0255b03a",
   "metadata": {},
   "outputs": [
    {
     "name": "stdout",
     "output_type": "stream",
     "text": [
      "Y\n"
     ]
    }
   ],
   "source": [
    "sampleString=\"Yes\"\n",
    "print(sampleString[0])"
   ]
  },
  {
   "cell_type": "code",
   "execution_count": null,
   "id": "4e2f790e",
   "metadata": {},
   "outputs": [],
   "source": [
    "count vectorizer and euclidean distances"
   ]
  }
 ],
 "metadata": {
  "kernelspec": {
   "display_name": "Python 3 (ipykernel)",
   "language": "python",
   "name": "python3"
  },
  "language_info": {
   "codemirror_mode": {
    "name": "ipython",
    "version": 3
   },
   "file_extension": ".py",
   "mimetype": "text/x-python",
   "name": "python",
   "nbconvert_exporter": "python",
   "pygments_lexer": "ipython3",
   "version": "3.10.4"
  }
 },
 "nbformat": 4,
 "nbformat_minor": 5
}
